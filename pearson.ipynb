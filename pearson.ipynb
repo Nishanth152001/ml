{
 "cells": [
  {
   "cell_type": "code",
   "execution_count": 21,
   "metadata": {
    "executionInfo": {
     "elapsed": 10,
     "status": "ok",
     "timestamp": 1651088095731,
     "user": {
      "displayName": "19CS121 VIGNESWARI.G",
      "userId": "04460241059442069352"
     },
     "user_tz": -330
    },
    "id": "agFSqiVydeTL"
   },
   "outputs": [],
   "source": [
    "import pandas as pd\n",
    "import math\n",
    "df = pd.read_csv(\"Advertising.csv\")"
   ]
  },
  {
   "cell_type": "code",
   "execution_count": 22,
   "metadata": {
    "executionInfo": {
     "elapsed": 739,
     "status": "ok",
     "timestamp": 1651088170591,
     "user": {
      "displayName": "19CS121 VIGNESWARI.G",
      "userId": "04460241059442069352"
     },
     "user_tz": -330
    },
    "id": "Z4bPZYfFewM8"
   },
   "outputs": [],
   "source": [
    "def pearson_correlation(x,y):\n",
    "  xmean = x.mean()\n",
    "  ymean = y.mean()\n",
    "  n = 0\n",
    "  d1 = 0\n",
    "  d2 = 0\n",
    "  for i in range(len(x)):\n",
    "    d1 += (x[i]-xmean)**2\n",
    "    d2 += (y[i]-ymean)**2\n",
    "    n += (x[i]-xmean)*(y[i]-ymean)\n",
    "  d = math.sqrt(d1*d2)\n",
    "  return n/d\n"
   ]
  },
  {
   "cell_type": "code",
   "execution_count": 27,
   "metadata": {
    "colab": {
     "base_uri": "https://localhost:8080/"
    },
    "executionInfo": {
     "elapsed": 612,
     "status": "ok",
     "timestamp": 1651088406096,
     "user": {
      "displayName": "19CS121 VIGNESWARI.G",
      "userId": "04460241059442069352"
     },
     "user_tz": -330
    },
    "id": "zgqTqa49higK",
    "outputId": "cbfd0569-acf1-49fd-b8c2-4bdcc494a6bb"
   },
   "outputs": [
    {
     "name": "stdout",
     "output_type": "stream",
     "text": [
      "0.782224424861606\n"
     ]
    }
   ],
   "source": [
    "x = df['TV']\n",
    "y = df['sales']\n",
    "r = pearson_correlation(x,y)\n",
    "print(r)"
   ]
  },
  {
   "cell_type": "code",
   "execution_count": 28,
   "metadata": {
    "colab": {
     "base_uri": "https://localhost:8080/"
    },
    "executionInfo": {
     "elapsed": 793,
     "status": "ok",
     "timestamp": 1651088412970,
     "user": {
      "displayName": "19CS121 VIGNESWARI.G",
      "userId": "04460241059442069352"
     },
     "user_tz": -330
    },
    "id": "ZdmhO9vpiQwY",
    "outputId": "d5bd84ca-6cbf-419e-9b91-f16975b0021f"
   },
   "outputs": [
    {
     "name": "stdout",
     "output_type": "stream",
     "text": [
      "Pearsons correlation: 0.782\n"
     ]
    }
   ],
   "source": [
    "from scipy.stats import pearsonr\n",
    "corr, _ = pearsonr(x, y)\n",
    "print('Pearsons correlation: %.3f' % corr)"
   ]
  }
 ],
 "metadata": {
  "colab": {
   "authorship_tag": "ABX9TyNVClUw3kWxqkdJFWx4HBYy",
   "collapsed_sections": [],
   "name": "pearson.ipynb",
   "provenance": []
  },
  "kernelspec": {
   "display_name": "Python 3",
   "language": "python",
   "name": "python3"
  },
  "language_info": {
   "codemirror_mode": {
    "name": "ipython",
    "version": 3
   },
   "file_extension": ".py",
   "mimetype": "text/x-python",
   "name": "python",
   "nbconvert_exporter": "python",
   "pygments_lexer": "ipython3",
   "version": "3.8.8"
  }
 },
 "nbformat": 4,
 "nbformat_minor": 1
}
